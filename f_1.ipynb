{
  "nbformat": 4,
  "nbformat_minor": 0,
  "metadata": {
    "colab": {
      "provenance": [],
      "toc_visible": true
    },
    "kernelspec": {
      "name": "python3",
      "display_name": "Python 3"
    },
    "language_info": {
      "name": "python"
    }
  },
  "cells": [
    {
      "cell_type": "markdown",
      "source": [
        "# Mid-semester assignment Part 1 - Basics of deep learning\n",
        "Hello dear students,<br> this is the template notebook. Please upload it into your drive and open as Google Colab nootebook\".\n",
        "\n",
        "---\n",
        "<br>\n",
        "\n",
        "### Name and ID:\n",
        "Student 1:\n",
        "<br>\n",
        "Student 2:"
      ],
      "metadata": {
        "collapsed": false,
        "pycharm": {
          "name": "#%% md\n"
        },
        "id": "XDDbguyGU8Fs"
      }
    },
    {
      "cell_type": "markdown",
      "source": [
        "## Fashion MNIST\n",
        "Fashion MNIST dataset contains 70,000 grayscale images in 10 categories. The images show individual articles of clothing at low resolution (28 by 28 pixels), as seen here:\n",
        "\n",
        "<table>\n",
        "  <tr><td>\n",
        "    <img src=\"https://tensorflow.org/images/fashion-mnist-sprite.png\"\n",
        "         alt=\"Fashion MNIST sprite\"  width=\"600\">\n",
        "  </td></tr>\n",
        "  \n",
        "</table>\n",
        "\n"
      ],
      "metadata": {
        "id": "JLkWLC8f3HZI"
      }
    },
    {
      "cell_type": "markdown",
      "source": [
        "Loading the dataset returns four NumPy arrays:\n",
        "\n",
        "* The `train_images` and `train_labels` arrays are the *training set*—the data the model uses to learn.\n",
        "* The model is tested against the *test set*, the `test_images`, and `test_labels` arrays.\n",
        "\n",
        "The images are 28x28 NumPy arrays, with pixel values ranging between 0 and 255. The *labels* are an array of integers, ranging from 0 to 9. These correspond to the *class* of clothing the image represents:\n",
        "\n",
        "<table>\n",
        "  <tr>\n",
        "    <th>Label</th>\n",
        "    <th>Class</th>\n",
        "  </tr>\n",
        "  <tr>\n",
        "    <td>0</td>\n",
        "    <td>T-shirt/top</td>\n",
        "  </tr>\n",
        "  <tr>\n",
        "    <td>1</td>\n",
        "    <td>Trouser</td>\n",
        "  </tr>\n",
        "    <tr>\n",
        "    <td>2</td>\n",
        "    <td>Pullover</td>\n",
        "  </tr>\n",
        "    <tr>\n",
        "    <td>3</td>\n",
        "    <td>Dress</td>\n",
        "  </tr>\n",
        "    <tr>\n",
        "    <td>4</td>\n",
        "    <td>Coat</td>\n",
        "  </tr>\n",
        "    <tr>\n",
        "    <td>5</td>\n",
        "    <td>Sandal</td>\n",
        "  </tr>\n",
        "    <tr>\n",
        "    <td>6</td>\n",
        "    <td>Shirt</td>\n",
        "  </tr>\n",
        "    <tr>\n",
        "    <td>7</td>\n",
        "    <td>Sneaker</td>\n",
        "  </tr>\n",
        "    <tr>\n",
        "    <td>8</td>\n",
        "    <td>Bag</td>\n",
        "  </tr>\n",
        "    <tr>\n",
        "    <td>9</td>\n",
        "    <td>Ankle boot</td>\n",
        "  </tr>\n",
        "</table>\n",
        "\n",
        "<br>\n",
        "\n",
        "# Goodluck!"
      ],
      "metadata": {
        "id": "WiRxNFCn3Vxd"
      }
    },
    {
      "cell_type": "markdown",
      "source": [
        "#Neural Network in plain NumPy"
      ],
      "metadata": {
        "collapsed": false,
        "id": "4K84YZ_QU8Fv"
      }
    },
    {
      "cell_type": "markdown",
      "source": [
        "## Import Libraries"
      ],
      "metadata": {
        "id": "QReFpU112hLT"
      }
    },
    {
      "cell_type": "code",
      "source": [
        "import numpy as np\n",
        "import matplotlib\n",
        "import matplotlib.pyplot as plt\n",
        "from sklearn.datasets import fetch_openml\n",
        "from sklearn.metrics import classification_report, confusion_matrix\n"
      ],
      "metadata": {
        "pycharm": {
          "name": "#%%\n"
        },
        "id": "tLOHjUiFU8Fv"
      },
      "execution_count": null,
      "outputs": []
    },
    {
      "cell_type": "markdown",
      "source": [
        "## Load Dataset"
      ],
      "metadata": {
        "id": "D5MsCpUv2tuj"
      }
    },
    {
      "cell_type": "code",
      "source": [
        "X, y = fetch_openml('Fashion-MNIST', version=1, return_X_y=True, as_frame=False)\n",
        "print(X.shape, y.shape)"
      ],
      "metadata": {
        "id": "nbzv9ZYA2pyW",
        "colab": {
          "base_uri": "https://localhost:8080/"
        },
        "outputId": "9cef7d3d-2a1e-49b4-fee3-a80e4208941c"
      },
      "execution_count": null,
      "outputs": [
        {
          "output_type": "stream",
          "name": "stderr",
          "text": [
            "/usr/local/lib/python3.10/dist-packages/sklearn/datasets/_openml.py:968: FutureWarning: The default value of `parser` will change from `'liac-arff'` to `'auto'` in 1.4. You can set `parser='auto'` to silence this warning. Therefore, an `ImportError` will be raised from 1.4 if the dataset is dense and pandas is not installed. Note that the pandas parser may return different data types. See the Notes Section in fetch_openml's API doc for details.\n",
            "  warn(\n"
          ]
        },
        {
          "output_type": "stream",
          "name": "stdout",
          "text": [
            "(70000, 784) (70000,)\n"
          ]
        }
      ]
    },
    {
      "cell_type": "markdown",
      "metadata": {
        "id": "GPBGGKtSoVpU"
      },
      "source": [
        "## Data preprocessing (10%)"
      ]
    },
    {
      "cell_type": "markdown",
      "metadata": {
        "id": "LZfq8otp-wXY"
      },
      "source": [
        "### Feature scaling"
      ]
    },
    {
      "cell_type": "code",
      "metadata": {
        "id": "7MZtZIzzDIKe",
        "colab": {
          "base_uri": "https://localhost:8080/"
        },
        "outputId": "05e835de-5cda-48fa-c54a-5ff4d061fd50"
      },
      "source": [
        "examples = y.shape[0]\n",
        "y1 = y.reshape(1, examples)\n",
        "X1 = X / 255\n",
        "X1 = X1.T\n",
        "print(X1.shape)"
      ],
      "execution_count": null,
      "outputs": [
        {
          "output_type": "stream",
          "name": "stdout",
          "text": [
            "(784, 70000)\n"
          ]
        }
      ]
    },
    {
      "cell_type": "markdown",
      "metadata": {
        "id": "i6K01j7A_Z4W"
      },
      "source": [
        "### Select two classes"
      ]
    },
    {
      "cell_type": "code",
      "metadata": {
        "id": "7OuPZ0o8DNWq"
      },
      "source": [
        "#TODO: select two classes (for example 2-Pullover and 4-Coat)\n",
        "indices = np.where((y == '0') | (y == '8'))[0] #8 bag and 0 T-shirt/Top\n",
        "\n",
        "X=X[indices]\n",
        "y=y[indices]"
      ],
      "execution_count": null,
      "outputs": []
    },
    {
      "cell_type": "markdown",
      "metadata": {
        "id": "cn5UPcIQH2jS"
      },
      "source": [
        "### Split the data into Train set and Test set\n",
        "\n"
      ]
    },
    {
      "cell_type": "code",
      "metadata": {
        "id": "FBUI2DZmhd0y"
      },
      "source": [
        "# TODO: Split the data into Train set and Test set (The use of libraries other than Numpy is strictly prohibited)\n",
        "\n",
        "# Shuffle the data indices\n",
        "indices = np.arange(X.shape[0])\n",
        "np.random.shuffle(indices)\n",
        "\n",
        "# Apply the shuffling to the features (X) and labels (y)\n",
        "X = X[indices]\n",
        "y = y[indices]\n",
        "\n",
        "# Define the size of the training set (80% of the data)\n",
        "train_size = int(0.8 * X.shape[0])\n",
        "\n",
        "# Extract the training set\n",
        "X_train = X[:train_size].T\n",
        "Y_train = y[:train_size].reshape(-1, 1)\n",
        "\n",
        "# Extract the test set\n",
        "X_test = X[train_size:].T\n",
        "Y_test = y[train_size:]\n"
      ],
      "execution_count": null,
      "outputs": []
    },
    {
      "cell_type": "markdown",
      "metadata": {
        "id": "gg7D7fwGH9Yv"
      },
      "source": [
        "### Test yourself"
      ]
    },
    {
      "cell_type": "code",
      "metadata": {
        "id": "wkLl0PSyDR9S",
        "colab": {
          "base_uri": "https://localhost:8080/",
          "height": 425
        },
        "outputId": "de0ecbdc-f5f3-4ce9-db3a-fdea79bcdaf3"
      },
      "source": [
        "# Test yourself (Check that the classes you have selected are actually displayed)\n",
        "%matplotlib inline\n",
        "from numpy import random\n",
        "\n",
        "i = random.randint(100)\n",
        "plt.imshow(X_train[:,i].reshape(28,28), cmap = matplotlib.cm.binary)\n",
        "plt.axis(\"off\")\n",
        "plt.show()\n",
        "Y_train[i,0]"
      ],
      "execution_count": null,
      "outputs": [
        {
          "output_type": "display_data",
          "data": {
            "text/plain": [
              "<Figure size 640x480 with 1 Axes>"
            ],
            "image/png": "[encoded data removed]"
          },
          "metadata": {}
        },
        {
          "output_type": "execute_result",
          "data": {
            "text/plain": [
              "'8'"
            ],
            "application/vnd.google.colaboratory.intrinsic+json": {
              "type": "string"
            }
          },
          "metadata": {},
          "execution_count": 6
        }
      ]
    },
    {
      "cell_type": "markdown",
      "metadata": {
        "id": "Q81OW5M7oCWZ"
      },
      "source": [
        "## Activation functions (10%)"
      ]
    },
    {
      "cell_type": "code",
      "metadata": {
        "id": "nxruxXBsDmP-"
      },
      "source": [
        "def sigmoid(z):\n",
        "    return 1 / (1 + np.exp(-z))"
      ],
      "execution_count": null,
      "outputs": []
    },
    {
      "cell_type": "markdown",
      "metadata": {
        "id": "OBIAUcVboOG9"
      },
      "source": [
        "## Loss function (20%)\n",
        "BCE Loss function captures the intuition that the neural network should pay a high penalty(Loss→∞) when the estimated probability, with respect to the training example’s label, is completely wrong. On the other hand, the Loss should equal zero(Loss=0) when the estimated probability, with respect to the training example’s label, is correct. Simply put, the BCE Loss should equal zero in only two instances:<br>\n",
        "* if the example is positively labeled(y=1) the neural network model should be completely sure that the example belongs to the positive class i.e p̂=1.\n",
        "* if the example is negatively labeled(y=0) the neural network model should be completely sure that the example does not belong to the positive class i.e p̂=0.\n",
        "\n",
        "<b> When we work with a computer, there are very high values or very low values that it cannot handle and that could cause the system to crash. <br>In order to overcome the case where the function returns values that strive for infinity you will need to understand which range of values causes the logarithm to return inf \\ -inf and handle this within the function. </b>"
      ]
    },
    {
      "cell_type": "code",
      "metadata": {
        "id": "U0i2o9_KDUdQ"
      },
      "source": [
        "# Logarithmic loss function, commonly used for evaluating binary classification models\n",
        "\n",
        "def log_loss(y_prob, y_true):\n",
        "    \"\"\"\n",
        "    Compute the logarithmic loss between predicted probabilities (y_prob) and true labels (y_true).\n",
        "\n",
        "    Parameters:\n",
        "    - y_prob: Predicted probabilities.\n",
        "    - y_true: True labels (0 or 1).\n",
        "\n",
        "    Returns:\n",
        "    - Logarithmic loss value.\n",
        "    \"\"\"\n",
        "    epsilon = 1e-15\n",
        "    # Clip predicted probabilities to avoid numerical instability\n",
        "    y_prob = np.clip(y_prob, epsilon, 1 - epsilon)\n",
        "\n",
        "    # Calculate the log loss\n",
        "    loss = - (y_true * np.log(y_prob) + (1 - y_true) * np.log(1 - y_prob))\n",
        "\n",
        "    return loss\n"
      ],
      "execution_count": null,
      "outputs": []
    },
    {
      "cell_type": "markdown",
      "metadata": {
        "id": "WY9DQPrJmvHZ"
      },
      "source": [
        "## NN Hyper Parameters"
      ]
    },
    {
      "cell_type": "code",
      "metadata": {
        "id": "qGCU_QYRnJap"
      },
      "source": [
        "# Neural network hyperparameters and architecture configuration\n",
        "\n",
        "# Number of neurons in the input layer (features in each data sample)\n",
        "input_layer = X_train.shape[0]  # For example, if input data is 28x28 pixels, input_layer = 28 * 28 = 784\n",
        "\n",
        "# Number of neurons in the hidden layer\n",
        "hidden_layer = 128  # Adjustable based on the complexity of the problem and available computational resources\n",
        "\n",
        "# Learning rate for gradient descent optimization\n",
        "learning_rate = 0.001  # Determines the step size during parameter updates\n",
        "\n",
        "# Number of training epochs\n",
        "epochs = 100  # Number of times the entire dataset is passed through the neural network for training\n"
      ],
      "execution_count": null,
      "outputs": []
    },
    {
      "cell_type": "markdown",
      "metadata": {
        "id": "M6SdHpc2m3vV"
      },
      "source": [
        "## Weight and Bias Initialization"
      ]
    },
    {
      "cell_type": "code",
      "metadata": {
        "id": "IVRoMGxTnLZI",
        "colab": {
          "base_uri": "https://localhost:8080/"
        },
        "outputId": "ba03e25b-9148-4e21-8930-4a6ed16bbace"
      },
      "source": [
        "W1 = np.random.randn(hidden_layer, input_layer)\n",
        "b1 = np.zeros((hidden_layer, 1))\n",
        "W2 = np.random.randn(1, hidden_layer)\n",
        "b2 = np.zeros((1, 1))\n",
        "\n",
        "print(W1.shape)\n",
        "print(b1.shape)\n",
        "print(W2.shape)\n",
        "print(b2.shape)"
      ],
      "execution_count": null,
      "outputs": [
        {
          "output_type": "stream",
          "name": "stdout",
          "text": [
            "(128, 784)\n",
            "(128, 1)\n",
            "(1, 128)\n",
            "(1, 1)\n"
          ]
        }
      ]
    },
    {
      "cell_type": "markdown",
      "metadata": {
        "id": "fp-IaWECn6Hu"
      },
      "source": [
        "## Training (30%)"
      ]
    },
    {
      "cell_type": "code",
      "metadata": {
        "id": "4tdlcCGLDo7F",
        "colab": {
          "base_uri": "https://localhost:8080/"
        },
        "outputId": "14a5dbdc-2120-4ffc-b6f4-e7eac1c2f2c5"
      },
      "source": [
        "# Training loop for a neural network\n",
        "\n",
        "# Set the input data and labels for training\n",
        "X = X_train\n",
        "Y = Y_train\n",
        "\n",
        "# Lists to store training loss and epoch number for later analysis\n",
        "loss_list = []\n",
        "epoch_list = []\n",
        "\n",
        "# Number of training samples\n",
        "numOfTraining = X_train.shape[1]\n",
        "\n",
        "# Main training loop\n",
        "for i in range(epochs):\n",
        "    avg_epoch_loss = 0\n",
        "\n",
        "    # Loop through each training sample\n",
        "    for j in range(numOfTraining):\n",
        "        # Forward propagation\n",
        "        Z1 = np.dot(W1, X[:, j].reshape(-1, 1)) + b1\n",
        "        A1 = np.tanh(Z1)\n",
        "        Z2 = np.dot(W2, A1) + b2\n",
        "        A2 = sigmoid(Z2)\n",
        "        Yout = int(Y[j]) / 8  # Adjust for compatibility with the log_loss function\n",
        "\n",
        "        # Compute loss\n",
        "        loss = log_loss(A2, Yout)\n",
        "        avg_epoch_loss = avg_epoch_loss + loss\n",
        "\n",
        "        # Back propagation\n",
        "        dZ2 = (A2 - Yout)\n",
        "        dW2 = np.dot(dZ2, A1.T)\n",
        "        db2 = np.sum(dZ2, axis=1, keepdims=True)\n",
        "\n",
        "        dA1 = np.dot(W2.T, dZ2)\n",
        "        dZ1 = dA1 * (1 - np.power(A1, 2))\n",
        "        dW1 = np.dot(dZ1, X[:, j].reshape(-1, 1).T)\n",
        "        db1 = np.sum(dZ1, axis=1, keepdims=True)\n",
        "\n",
        "        # Update weights\n",
        "        W2 = W2 - learning_rate * dW2\n",
        "        b2 = b2 - learning_rate * db2\n",
        "        W1 = W1 - learning_rate * dW1\n",
        "        b1 = b1 - learning_rate * db1\n",
        "\n",
        "    # Calculate average loss for the epoch\n",
        "    avg_epoch_loss = avg_epoch_loss / numOfTraining\n",
        "\n",
        "    # Store loss and epoch number for analysis\n",
        "    loss_list.append(avg_epoch_loss)\n",
        "    epoch_list.append(i)\n",
        "\n",
        "    # Print training progress\n",
        "    print(\"Epoch\", i, \" Loss:\", avg_epoch_loss)\n"
      ],
      "execution_count": null,
      "outputs": [
        {
          "output_type": "stream",
          "name": "stdout",
          "text": [
            "Epoch 0  Loss: [[0.5849583]]\n",
            "Epoch 1  Loss: [[0.2707011]]\n",
            "Epoch 2  Loss: [[0.21507387]]\n",
            "Epoch 3  Loss: [[0.1816601]]\n",
            "Epoch 4  Loss: [[0.16855333]]\n",
            "Epoch 5  Loss: [[0.16187072]]\n",
            "Epoch 6  Loss: [[0.15773381]]\n",
            "Epoch 7  Loss: [[0.155981]]\n",
            "Epoch 8  Loss: [[0.14807221]]\n",
            "Epoch 9  Loss: [[0.14396286]]\n",
            "Epoch 10  Loss: [[0.1504484]]\n",
            "Epoch 11  Loss: [[0.14475393]]\n",
            "Epoch 12  Loss: [[0.140262]]\n",
            "Epoch 13  Loss: [[0.12911868]]\n",
            "Epoch 14  Loss: [[0.13091841]]\n",
            "Epoch 15  Loss: [[0.14120894]]\n",
            "Epoch 16  Loss: [[0.12924136]]\n",
            "Epoch 17  Loss: [[0.12068621]]\n",
            "Epoch 18  Loss: [[0.11666942]]\n",
            "Epoch 19  Loss: [[0.11454644]]\n",
            "Epoch 20  Loss: [[0.1142173]]\n",
            "Epoch 21  Loss: [[0.11697012]]\n",
            "Epoch 22  Loss: [[0.11276934]]\n",
            "Epoch 23  Loss: [[0.10685613]]\n",
            "Epoch 24  Loss: [[0.10733435]]\n",
            "Epoch 25  Loss: [[0.11412434]]\n",
            "Epoch 26  Loss: [[0.11710921]]\n",
            "Epoch 27  Loss: [[0.12336144]]\n",
            "Epoch 28  Loss: [[0.11856509]]\n",
            "Epoch 29  Loss: [[0.12751028]]\n",
            "Epoch 30  Loss: [[0.12645932]]\n",
            "Epoch 31  Loss: [[0.12349998]]\n",
            "Epoch 32  Loss: [[0.12047005]]\n",
            "Epoch 33  Loss: [[0.11574672]]\n",
            "Epoch 34  Loss: [[0.11604784]]\n",
            "Epoch 35  Loss: [[0.1125456]]\n",
            "Epoch 36  Loss: [[0.12650338]]\n",
            "Epoch 37  Loss: [[0.12979517]]\n",
            "Epoch 38  Loss: [[0.10379987]]\n",
            "Epoch 39  Loss: [[0.10505262]]\n",
            "Epoch 40  Loss: [[0.10736113]]\n",
            "Epoch 41  Loss: [[0.11267514]]\n",
            "Epoch 42  Loss: [[0.11018364]]\n",
            "Epoch 43  Loss: [[0.10624781]]\n",
            "Epoch 44  Loss: [[0.09754625]]\n",
            "Epoch 45  Loss: [[0.09868077]]\n",
            "Epoch 46  Loss: [[0.09821856]]\n",
            "Epoch 47  Loss: [[0.10073511]]\n",
            "Epoch 48  Loss: [[0.09826413]]\n",
            "Epoch 49  Loss: [[0.09881331]]\n",
            "Epoch 50  Loss: [[0.09636609]]\n",
            "Epoch 51  Loss: [[0.09424297]]\n",
            "Epoch 52  Loss: [[0.09306028]]\n",
            "Epoch 53  Loss: [[0.09564952]]\n",
            "Epoch 54  Loss: [[0.09597413]]\n",
            "Epoch 55  Loss: [[0.09252589]]\n",
            "Epoch 56  Loss: [[0.09184145]]\n",
            "Epoch 57  Loss: [[0.09279772]]\n",
            "Epoch 58  Loss: [[0.09469608]]\n",
            "Epoch 59  Loss: [[0.0940485]]\n",
            "Epoch 60  Loss: [[0.11005003]]\n",
            "Epoch 61  Loss: [[0.10764312]]\n",
            "Epoch 62  Loss: [[0.10535862]]\n",
            "Epoch 63  Loss: [[0.10474328]]\n",
            "Epoch 64  Loss: [[0.10125021]]\n",
            "Epoch 65  Loss: [[0.09888903]]\n",
            "Epoch 66  Loss: [[0.09975061]]\n",
            "Epoch 67  Loss: [[0.10322482]]\n",
            "Epoch 68  Loss: [[0.11270892]]\n",
            "Epoch 69  Loss: [[0.11065654]]\n",
            "Epoch 70  Loss: [[0.10701079]]\n",
            "Epoch 71  Loss: [[0.1022167]]\n",
            "Epoch 72  Loss: [[0.10434527]]\n",
            "Epoch 73  Loss: [[0.10438137]]\n",
            "Epoch 74  Loss: [[0.10239363]]\n",
            "Epoch 75  Loss: [[0.10199114]]\n",
            "Epoch 76  Loss: [[0.10438368]]\n",
            "Epoch 77  Loss: [[0.10185577]]\n",
            "Epoch 78  Loss: [[0.10047117]]\n",
            "Epoch 79  Loss: [[0.1019317]]\n",
            "Epoch 80  Loss: [[0.10053523]]\n",
            "Epoch 81  Loss: [[0.09773385]]\n",
            "Epoch 82  Loss: [[0.0967933]]\n",
            "Epoch 83  Loss: [[0.09596777]]\n",
            "Epoch 84  Loss: [[0.09420788]]\n",
            "Epoch 85  Loss: [[0.09603504]]\n",
            "Epoch 86  Loss: [[0.09446045]]\n",
            "Epoch 87  Loss: [[0.0976307]]\n",
            "Epoch 88  Loss: [[0.09800943]]\n",
            "Epoch 89  Loss: [[0.09468243]]\n",
            "Epoch 90  Loss: [[0.09284757]]\n",
            "Epoch 91  Loss: [[0.09212085]]\n",
            "Epoch 92  Loss: [[0.09344475]]\n",
            "Epoch 93  Loss: [[0.09399405]]\n",
            "Epoch 94  Loss: [[0.09370456]]\n",
            "Epoch 95  Loss: [[0.09322073]]\n",
            "Epoch 96  Loss: [[0.09325615]]\n",
            "Epoch 97  Loss: [[0.09263219]]\n",
            "Epoch 98  Loss: [[0.0920771]]\n",
            "Epoch 99  Loss: [[0.09101405]]\n"
          ]
        }
      ]
    },
    {
      "cell_type": "markdown",
      "metadata": {
        "id": "TdgCk97534-B"
      },
      "source": [
        "### Loss Visualization"
      ]
    },
    {
      "cell_type": "code",
      "metadata": {
        "id": "RFo9NN5Q31X8",
        "colab": {
          "base_uri": "https://localhost:8080/",
          "height": 449
        },
        "outputId": "a16fff85-e546-4a23-fdc4-351af2230a98"
      },
      "source": [
        "import matplotlib.pyplot as plt\n",
        "\n",
        "plt.xlabel('Epoch Number')\n",
        "plt.ylabel(\"Loss\")\n",
        "plt.plot(epoch_list, np.squeeze(loss_list))\n",
        "plt.show()"
      ],
      "execution_count": null,
      "outputs": [
        {
          "output_type": "display_data",
          "data": {
            "text/plain": [
              "<Figure size 640x480 with 1 Axes>"
            ],
            "image/png": "[encoded data removed]"
          },
          "metadata": {}
        }
      ]
    },
    {
      "cell_type": "markdown",
      "source": [
        "## Results"
      ],
      "metadata": {
        "id": "5HV5g7j92Xfn"
      }
    },
    {
      "cell_type": "markdown",
      "metadata": {
        "id": "raBFclM5ploH"
      },
      "source": [
        "### Test your performance (30%)"
      ]
    },
    {
      "cell_type": "code",
      "metadata": {
        "id": "flfh-luxDs7Z",
        "colab": {
          "base_uri": "https://localhost:8080/"
        },
        "outputId": "ed716389-794d-430b-9495-34e928b0a155"
      },
      "source": [
        "# TODO: Forward batch of examples and evaluate performance on the test set\n",
        "\n",
        "# Set the input data and labels for testing\n",
        "X = X_test\n",
        "Y = Y_test\n",
        "\n",
        "# Forward propagation for the test set\n",
        "Z1 = np.matmul(W1, X) + b1\n",
        "A1 = np.tanh(Z1)\n",
        "Z2 = np.matmul(W2, A1) + b2\n",
        "A2 = sigmoid(Z2)\n",
        "\n",
        "# Initialize arrays to store predictions and labels for evaluation\n",
        "predictions = np.zeros((1, Y.shape[0]))\n",
        "labels = np.zeros((1, Y.shape[0]))\n",
        "\n",
        "# Check predictions against the test labels\n",
        "for i in range(Y.shape[0]):\n",
        "    if A2[0, i] > 0.5:\n",
        "        predictions[0, i] = 8  # Assume 8 as the positive class (adjust as needed)\n",
        "    labels[0, i] = Y[i]\n",
        "\n",
        "# Evaluate performance using a confusion matrix\n",
        "conf_matrix = confusion_matrix(labels.T, predictions.T, labels=[0, 8])\n",
        "print(\"Confusion Matrix:\")\n",
        "print(conf_matrix)\n",
        "\n",
        "# Calculate Accuracy\n",
        "accuracy = np.sum(np.diag(conf_matrix)) / np.sum(conf_matrix)\n",
        "print(\"Accuracy:\", accuracy)\n"
      ],
      "execution_count": null,
      "outputs": [
        {
          "output_type": "stream",
          "name": "stdout",
          "text": [
            "Confusion Matrix:\n",
            "[[1355   50]\n",
            " [  52 1343]]\n",
            "Accuracy: 0.9635714285714285\n"
          ]
        }
      ]
    },
    {
      "cell_type": "markdown",
      "source": [
        "### Visualize the results"
      ],
      "metadata": {
        "id": "7FtZr0EQBlcm"
      }
    },
    {
      "cell_type": "code",
      "metadata": {
        "id": "gAj_5W2wVUrI",
        "colab": {
          "base_uri": "https://localhost:8080/",
          "height": 1000
        },
        "outputId": "30d758f4-770e-45e6-b605-a624a38b58ab"
      },
      "source": [
        "# Visualization of model predictions on random test examples\n",
        "# Ensure that plots are displayed inline\n",
        "%matplotlib inline\n",
        "\n",
        "# Import necessary libraries\n",
        "from numpy import random\n",
        "import matplotlib.pyplot as plt\n",
        "\n",
        "# Plot results for a random set of test examples\n",
        "for _ in range(10):\n",
        "    i = random.randint(X_test.shape[1])\n",
        "\n",
        "    # Forward propagation\n",
        "    Z1 = np.matmul(W1, X_test[:, i])\n",
        "    A1 = np.tanh(Z1)\n",
        "    Z2 = np.matmul(W2, A1) + b2\n",
        "    A2 = sigmoid(Z2)\n",
        "    Yout = Y_test[i]\n",
        "\n",
        "    # Display the image\n",
        "    plt.imshow(X_test[:, i].reshape(28, 28), cmap=matplotlib.cm.binary)\n",
        "    plt.axis(\"off\")\n",
        "    plt.show()\n",
        "\n",
        "    # Predicted label and prediction probability\n",
        "    predicted_label = 8 if float(A2[0, 0]) > 0.5 else 0  # Assuming 8 as the positive class\n",
        "    print(\"Real =\", int(Yout), \"Predicted =\", predicted_label, \"Prediction =\", A2[0, 0])\n"
      ],
      "execution_count": null,
      "outputs": [
        {
          "output_type": "display_data",
          "data": {
            "text/plain": [
              "<Figure size 640x480 with 1 Axes>"
            ],
            "image/png": "[encoded data removed]"
          },
          "metadata": {}
        },
        {
          "output_type": "stream",
          "name": "stdout",
          "text": [
            "Real = 0 Predicted = 0 Prediction = 0.0019052964755091769\n"
          ]
        },
        {
          "output_type": "display_data",
          "data": {
            "text/plain": [
              "<Figure size 640x480 with 1 Axes>"
            ],
            "image/png": "[encoded data removed]"
          },
          "metadata": {}
        },
        {
          "output_type": "stream",
          "name": "stdout",
          "text": [
            "Real = 8 Predicted = 8 Prediction = 0.999671257666832\n"
          ]
        },
        {
          "output_type": "display_data",
          "data": {
            "text/plain": [
              "<Figure size 640x480 with 1 Axes>"
            ],
            "image/png": "[encoded data removed]"
          },
          "metadata": {}
        },
        {
          "output_type": "stream",
          "name": "stdout",
          "text": [
            "Real = 0 Predicted = 0 Prediction = 0.313404130056749\n"
          ]
        },
        {
          "output_type": "display_data",
          "data": {
            "text/plain": [
              "<Figure size 640x480 with 1 Axes>"
            ],
            "image/png": "[encoded data removed]"
          },
          "metadata": {}
        },
        {
          "output_type": "stream",
          "name": "stdout",
          "text": [
            "Real = 0 Predicted = 0 Prediction = 0.06330232516823295\n"
          ]
        },
        {
          "output_type": "display_data",
          "data": {
            "text/plain": [
              "<Figure size 640x480 with 1 Axes>"
            ],
            "image/png": "[encoded data removed]"
          },
          "metadata": {}
        },
        {
          "output_type": "stream",
          "name": "stdout",
          "text": [
            "Real = 0 Predicted = 0 Prediction = 0.0025120583324491426\n"
          ]
        },
        {
          "output_type": "display_data",
          "data": {
            "text/plain": [
              "<Figure size 640x480 with 1 Axes>"
            ],
            "image/png": "[encoded data removed]"
          },
          "metadata": {}
        },
        {
          "output_type": "stream",
          "name": "stdout",
          "text": [
            "Real = 0 Predicted = 0 Prediction = 0.0019052964755091769\n"
          ]
        },
        {
          "output_type": "display_data",
          "data": {
            "text/plain": [
              "<Figure size 640x480 with 1 Axes>"
            ],
            "image/png": "[encoded data removed]"
          },
          "metadata": {}
        },
        {
          "output_type": "stream",
          "name": "stdout",
          "text": [
            "Real = 8 Predicted = 8 Prediction = 0.9995428060717062\n"
          ]
        },
        {
          "output_type": "display_data",
          "data": {
            "text/plain": [
              "<Figure size 640x480 with 1 Axes>"
            ],
            "image/png": "[encoded data removed]"
          },
          "metadata": {}
        },
        {
          "output_type": "stream",
          "name": "stdout",
          "text": [
            "Real = 8 Predicted = 8 Prediction = 0.9966666881122813\n"
          ]
        },
        {
          "output_type": "display_data",
          "data": {
            "text/plain": [
              "<Figure size 640x480 with 1 Axes>"
            ],
            "image/png": "[encoded data removed]"
          },
          "metadata": {}
        },
        {
          "output_type": "stream",
          "name": "stdout",
          "text": [
            "Real = 8 Predicted = 8 Prediction = 0.9592254068843135\n"
          ]
        },
        {
          "output_type": "display_data",
          "data": {
            "text/plain": [
              "<Figure size 640x480 with 1 Axes>"
            ],
            "image/png": "[encoded data removed]"
          },
          "metadata": {}
        },
        {
          "output_type": "stream",
          "name": "stdout",
          "text": [
            "Real = 0 Predicted = 0 Prediction = 0.00015972439584240687\n"
          ]
        }
      ]
    }
  ]
}